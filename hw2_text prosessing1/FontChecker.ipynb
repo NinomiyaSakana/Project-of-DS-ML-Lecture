{
 "cells": [
  {
   "cell_type": "markdown",
   "metadata": {},
   "source": [
    "# matplotlibで利用可能な日本語フォント\n",
    "\n",
    "<font color='red'>このファイルはWindows / MacOS用です!!</font><BR>\n",
    "\n",
    "matplotlibで描画するグラフに日本語文字を張りたい場合は、\n",
    "使用するフォントの種類に日本語が書き出し可能なフォントを指定する必要があります。\n",
    "\n",
    "## 1. 現状の確認方法\n",
    "まず、現在の設定は以下で確認できます。"
   ]
  },
  {
   "cell_type": "code",
   "execution_count": 1,
   "metadata": {},
   "outputs": [
    {
     "name": "stdout",
     "output_type": "stream",
     "text": [
      "デフォルトのフォントファミリー ['sans-serif']\n",
      "sans-serifのフォントリスト（最初のものから順に優先）： ['DejaVu Sans', 'Bitstream Vera Sans', 'Computer Modern Sans Serif', 'Lucida Grande', 'Verdana', 'Geneva', 'Lucid', 'Arial', 'Helvetica', 'Avant Garde', 'sans-serif']\n"
     ]
    }
   ],
   "source": [
    "import matplotlib as plt\n",
    "print('デフォルトのフォントファミリー',plt.rcParams[\"font.family\"])\n",
    "print('sans-serifのフォントリスト（最初のものから順に優先）：',plt.rcParams[\"font.sans-serif\"])"
   ]
  },
  {
   "cell_type": "markdown",
   "metadata": {},
   "source": [
    "デフォルトのフォントファミリーは'sans-serif'となっているのではないでしょうか？\n",
    "\n",
    "アルファベットの大分類には「serif」「sans-serif」「cursive」「fantasy」「monospace」があり、ここで指定しているのはこの大分類です。   \n",
    "日本語フォントうち、「MSゴシック」や「游ゴシック」「HGPゴシックE」のようなゴシック体は「sans-serif」フォントの一つですし、「MS明朝」や「游明朝」「HGP明朝E」のような明朝体は「serif」フォントの一つです。\n",
    "\n",
    "sans-serifが指定されると、今度はfont.sans-serifのリストを参照し、リストの上から順に、インストール済みのフォントが使われることになります。   \n",
    "ここに日本語を書き出し可能なフォントが含まれていないので、デフォルトのままだと日本語文字が「□」になってしまいます。\n",
    "\n"
   ]
  },
  {
   "cell_type": "markdown",
   "metadata": {},
   "source": [
    "## 2. 使用できるフォントの確認\n",
    "\n",
    "どのフォントが使用できるかは、それぞれのPCの環境によって異なります。   \n",
    "以下のセルを実行し、使用できるフォントのリストを表示してください。   \n",
    "\n",
    "この中で、「Gothic」や「Mincho」が含まれているフォントは、日本語が書き出せるフォントだと思います（違ったら私の理解が間違っているので、お手数ですがメッセージにてご報告を！）。"
   ]
  },
  {
   "cell_type": "code",
   "execution_count": 3,
   "metadata": {},
   "outputs": [
    {
     "name": "stdout",
     "output_type": "stream",
     "text": [
      "['STIXSizeFourSym', 'cmtt10', 'STIXNonUnicode', 'STIXGeneral', 'STIXSizeFourSym', 'STIXNonUnicode', 'DejaVu Serif', 'DejaVu Sans Mono', 'DejaVu Serif', 'STIXSizeOneSym', 'STIXGeneral', 'cmb10', 'STIXGeneral', 'cmex10', 'cmr10', 'cmmi10', 'DejaVu Serif', 'STIXNonUnicode', 'DejaVu Serif Display', 'DejaVu Sans', 'cmsy10', 'DejaVu Sans Mono', 'STIXGeneral', 'DejaVu Serif', 'STIXNonUnicode', 'DejaVu Sans', 'DejaVu Sans', 'STIXSizeOneSym', 'STIXSizeThreeSym', 'STIXSizeTwoSym', 'DejaVu Sans Display', 'STIXSizeThreeSym', 'DejaVu Sans Mono', 'STIXSizeTwoSym', 'cmss10', 'STIXSizeFiveSym', 'DejaVu Sans Mono', 'DejaVu Sans', '.SF NS Text Condensed', 'Malayalam MN', 'Kefa', 'STIXGeneral', '.Keyboard', 'Apple Symbols', '.SF Compact Rounded', 'Impact', 'Arial', 'Sinhala MN', 'Noteworthy', 'Microsoft Sans Serif', 'Noto Sans Limbu', 'Avenir', 'Savoye LET', 'Times New Roman', 'Marion', 'Palatino', 'Mshtakan', 'Times', 'Georgia', '.SF NS Display Condensed', 'Phosphate', 'Mishafi', 'Trebuchet MS', 'Tiger Expert', '.SF NS Text Condensed', 'DIN Alternate', 'Papyrus', 'STIXGeneral', 'STIXIntegralsUpSm', 'Al Nile', 'Gurmukhi MT', 'Avenir Next Condensed', 'Mishafi Gold', 'Noto Sans Meetei Mayek', 'Trattatello', 'Sathu', 'Apple Braille', 'STIXNonUnicode', 'Cochin', 'Noto Sans New Tai Lue', 'Noto Sans Shavian', 'Telugu Sangam MN', '.LastResort', 'KufiStandardGK', '.SF NS Text Condensed', 'Verdana', 'Waseem', 'STIXVariants', 'Noto Sans Rejang', 'Noto Sans Buhid', 'Krungthep', 'Tamil Sangam MN', 'Thonburi', 'Malayalam Sangam MN', '.SF NS Display Condensed', 'Noto Sans Tagalog', 'Al Tarikh', 'Didot', 'Devanagari Sangam MN', 'Courier New', 'Noto Sans Chakma', 'Charter', 'PingFang HK', 'Courier New', 'Lao Sangam MN', 'STIXIntegralsUpD', 'InaiMathi', 'Noto Sans Oriya', 'Noto Sans Syriac', '.SF Compact Text', 'Apple Braille', 'Noto Sans Lycian', 'Tiger', 'Noto Sans Inscriptional Pahlavi', 'STIXIntegralsUp', 'Arial', 'Andale Mono', 'Symbol Tiger', 'Noto Sans Cham', 'Chalkboard', 'Oriya MN', 'SignPainter', 'Apple Braille', '.Arabic UI Text', '.Aqua Kana', 'Damascus', 'Bangla MN', 'Noto Sans Linear B', 'Devanagari MT', 'Noto Sans Old Italic', 'Tamil MN', 'Oriya Sangam MN', 'Kailasa', 'STIXIntegralsD', 'Lucida Grande', 'Trebuchet MS', 'Khmer MN', '.New York', 'Zapfino', 'STIXSizeFourSym', 'Songti SC', 'Hoefler Text', 'Noto Sans Myanmar', 'Telugu MN', 'Noto Serif Myanmar', 'Helvetica', 'Noto Sans Lydian', 'DIN Condensed', 'Trebuchet MS', 'Snell Roundhand', 'Arial Unicode MS', 'Noto Sans PhagsPa', 'Mukta Mahee', 'Kannada Sangam MN', 'Sana', 'Hiragino Sans', 'STIXIntegralsUpSm', 'Nadeem', 'STIXSizeFourSym', 'Arial', 'AppleGothic', 'Bodoni Ornaments', 'Farisi', 'STIXNonUnicode', 'Bangla Sangam MN', 'Noto Sans Cuneiform', 'Gill Sans', '.SF NS Display Condensed', 'Noto Sans Syloti Nagri', '.SF NS Display Condensed', 'Bodoni 72', 'Verdana', '.SF NS Display Condensed', 'Noto Sans Bamum', 'Diwan Thuluth', 'Gujarati Sangam MN', 'Gurmukhi MN', 'Symbol Tiger Expert', 'Hiragino Sans', 'Kokonor', 'Shree Devanagari 714', 'Noto Sans Old Turkic', 'System Font', 'Beirut', '.SF NS Text Condensed', 'STIXIntegralsSm', 'Hiragino Sans', 'Bodoni 72 Oldstyle', 'Noto Sans Ogham', 'Chalkboard SE', 'Kohinoor Telugu', 'Arial Hebrew', 'DecoType Naskh', 'Georgia', 'Seravek', 'Noto Sans Armenian', 'Plantagenet Cherokee', 'STIXIntegralsSm', 'Arial Narrow', '.SF NS Text Condensed', 'Kannada MN', 'Tahoma', 'Hiragino Maru Gothic Pro', 'Noto Sans Glagolitic', 'Brush Script MT', 'Hiragino Sans', 'Avenir Next', 'Noto Sans Imperial Aramaic', '.New York', 'Hiragino Sans', 'Courier New', 'Noto Sans Avestan', 'Ayuthaya', 'Myanmar MN', '.SF Compact Display', 'STIXNonUnicode', 'Arial Narrow', 'Noto Sans Kannada', 'Apple Braille', 'Raanana', 'Noto Sans Tai Viet', 'Arial Narrow', 'Silom', 'PT Serif Caption', 'Bodoni 72 Smallcaps', 'Noto Sans Yi', 'System Font', 'Arial Narrow', '.Helvetica Neue DeskInterface', 'PT Sans', 'Noto Sans Kharoshthi', 'PT Serif', 'Hiragino Sans', 'Noto Sans Old Persian', 'Athelas', 'Noto Sans Brahmi', 'Comic Sans MS', 'Kohinoor Gujarati', 'Courier New', 'Geeza Pro', 'Noto Sans Kayah Li', 'Zapf Dingbats', 'Kohinoor Devanagari', 'Chalkduster', 'Optima', 'ITF Devanagari', 'Helvetica Neue', 'Noto Sans Old South Arabian', 'STIXNonUnicode', 'STIXIntegralsUp', 'Noto Sans Ol Chiki', 'Heiti TC', 'Noto Sans Buginese', 'MT Extra Tiger', 'Menlo', 'Times New Roman', 'Noto Sans Phoenician', 'Baghdad', 'Khmer Sangam MN', 'Noto Sans Carian', '.SF NS Rounded', 'New Peninim MT', 'Hiragino Sans GB', 'Hoefler Text', 'AppleMyungjo', '.Arabic UI Display', 'Hiragino Sans', 'Noto Sans Tai Le', 'Apple Chancery', '.SF NS Mono', 'Noto Sans Tai Tham', 'Sinhala Sangam MN', '.SF NS Mono', 'STIXIntegralsUpD', 'Noto Sans NKo', 'Noto Nastaliq Urdu', 'Noto Sans Osmanya', '.SF NS Text Condensed', 'Tahoma', 'Comic Sans MS', 'STIXGeneral', 'Iowan Old Style', 'Noto Sans Lepcha', 'Noto Sans Samaritan', 'Georgia', 'Marker Felt', 'Herculanum', 'PT Mono', 'Myanmar Sangam MN', 'STIXSizeThreeSym', 'STIXSizeTwoSym', 'STIXIntegralsD', 'American Typewriter', 'Arial Unicode MS', 'Noto Sans Tifinagh', 'Big Caslon', '.SF NS Display Condensed', 'Hiragino Sans', 'Times New Roman', '.SF NS Display Condensed', 'STIXSizeTwoSym', 'Noto Sans Vai', 'Wingdings', 'Noto Sans Thaana', 'Lao MN', 'Kohinoor Bangla', 'Symbol', 'Noto Serif Balinese', 'Euphemia UCAS', 'Al Bayan', 'Rockwell', 'STIXSizeOneSym', 'Noto Sans Cypriot', 'Trebuchet MS', 'STIXGeneral', 'STIXVariants', 'STIXSizeFiveSym', 'Noto Sans Inscriptional Parthian', 'Skia', 'Wingdings 2', 'Sukhumvit Set', 'Arial', '.SF NS Display Condensed', 'Noto Sans Kaithi', 'Webdings', 'Muna', 'Noto Sans Mongolian', 'Apple Braille', 'Copperplate', 'Verdana', 'Apple SD Gothic Neo', 'Noto Sans Batak', 'Noto Sans Mandaic', 'Noto Sans Egyptian Hieroglyphs', 'Diwan Kufi', 'Noto Sans Ugaritic', 'Noto Sans Runic', 'Noto Sans Lisu', 'Baskerville', 'Hiragino Sans', 'Noto Sans Coptic', 'Corsiva Hebrew', 'Hiragino Sans', '.SF NS Display Condensed', 'Noto Sans Sundanese', 'Georgia', 'Heiti TC', 'Gurmukhi Sangam MN', 'Arial Rounded MT Bold', 'Futura', 'Wingdings 3', 'Galvji', 'Verdana', 'Bradley Hand', 'Noto Sans Javanese', 'Luminari', 'Gujarati MT', '.SF Compact Text', 'Times New Roman', 'Arial Black', 'Noto Sans Gothic', 'Superclarendon', 'STIXSizeThreeSym', 'Noto Sans Tagbanwa', 'Noto Sans Hanunoo', 'Hiragino Mincho ProN', 'STIXSizeOneSym', 'Farah', 'Noto Sans Saurashtra']\n"
     ]
    }
   ],
   "source": [
    "import matplotlib.font_manager\n",
    "print([f.name for f in matplotlib.font_manager.fontManager.ttflist])"
   ]
  },
  {
   "cell_type": "markdown",
   "metadata": {},
   "source": [
    "## 3. matplotlibで日本語フォントの指定\n",
    "\n",
    "演習ファイルにも載せましたが、以下のようにして使用するフォントを指定できます。"
   ]
  },
  {
   "cell_type": "code",
   "execution_count": 7,
   "metadata": {},
   "outputs": [],
   "source": [
    "plt.rcParams[\"font.family\"] = 'AppleGothic'"
   ]
  },
  {
   "cell_type": "markdown",
   "metadata": {},
   "source": [
    "また、macOSの場合はmatplotlibのフォントのキャッシュ削除が必要なようです。   \n",
    "「アプリケーション＞ターミナル」を開いて\n",
    "```\n",
    "rm -rf ~/.matplotlib/fontList*.cache\n",
    "```\n",
    "を実行します。   "
   ]
  },
  {
   "cell_type": "markdown",
   "metadata": {},
   "source": [
    "## 4. 日本語フォントのチェック\n",
    "\n",
    "以下のセルを実行して、日本語文字が書き出せるか確認してください。"
   ]
  },
  {
   "cell_type": "code",
   "execution_count": 8,
   "metadata": {},
   "outputs": [
    {
     "data": {
      "text/plain": [
       "Text(0.1, 0.5, 'これが表示されたら成功！')"
      ]
     },
     "execution_count": 8,
     "metadata": {},
     "output_type": "execute_result"
    },
    {
     "data": {
      "image/png": "[encoded data removed]",
      "text/plain": [
       "<Figure size 432x72 with 1 Axes>"
      ]
     },
     "metadata": {
      "needs_background": "light"
     },
     "output_type": "display_data"
    }
   ],
   "source": [
    "import matplotlib.pyplot as plt\n",
    "fig = plt.figure(figsize =(6, 1))\n",
    "ax = fig.add_subplot(111)\n",
    "ax.text(0.1, 0.5, \"これが表示されたら成功！\", size = 20, color = \"red\")"
   ]
  }
 ],
 "metadata": {
  "kernelspec": {
   "display_name": "Python 3",
   "language": "python",
   "name": "python3"
  },
  "language_info": {
   "codemirror_mode": {
    "name": "ipython",
    "version": 3
   },
   "file_extension": ".py",
   "mimetype": "text/x-python",
   "name": "python",
   "nbconvert_exporter": "python",
   "pygments_lexer": "ipython3",
   "version": "3.8.3"
  }
 },
 "nbformat": 4,
 "nbformat_minor": 2
}
